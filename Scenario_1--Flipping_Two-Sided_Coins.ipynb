{
 "cells": [
  {
   "cell_type": "markdown",
   "id": "6f650e3b",
   "metadata": {},
   "source": [
    "# Scenario 1: Flipping Two-Sided Coins"
   ]
  },
  {
   "cell_type": "markdown",
   "id": "a6bd81ff",
   "metadata": {},
   "source": [
    "1. Create one fair coin with faces H and T and one unfair coin with weight 5 for face H and weight 1 for face T."
   ]
  },
  {
   "cell_type": "code",
   "execution_count": 1,
   "id": "100de574",
   "metadata": {},
   "outputs": [
    {
     "data": {
      "text/html": [
       "<div>\n",
       "<style scoped>\n",
       "    .dataframe tbody tr th:only-of-type {\n",
       "        vertical-align: middle;\n",
       "    }\n",
       "\n",
       "    .dataframe tbody tr th {\n",
       "        vertical-align: top;\n",
       "    }\n",
       "\n",
       "    .dataframe thead th {\n",
       "        text-align: right;\n",
       "    }\n",
       "</style>\n",
       "<table border=\"1\" class=\"dataframe\">\n",
       "  <thead>\n",
       "    <tr style=\"text-align: right;\">\n",
       "      <th></th>\n",
       "      <th>face</th>\n",
       "      <th>weight</th>\n",
       "    </tr>\n",
       "  </thead>\n",
       "  <tbody>\n",
       "    <tr>\n",
       "      <th>0</th>\n",
       "      <td>H</td>\n",
       "      <td>1.0</td>\n",
       "    </tr>\n",
       "    <tr>\n",
       "      <th>1</th>\n",
       "      <td>T</td>\n",
       "      <td>1.0</td>\n",
       "    </tr>\n",
       "  </tbody>\n",
       "</table>\n",
       "</div>"
      ],
      "text/plain": [
       "  face  weight\n",
       "0    H     1.0\n",
       "1    T     1.0"
      ]
     },
     "execution_count": 1,
     "metadata": {},
     "output_type": "execute_result"
    }
   ],
   "source": [
    "from montecarlosimulator import Die\n",
    "import numpy as np\n",
    "array_of_faces = np.array(['H', 'T'], dtype = str)\n",
    "fair_coin = Die(array_of_faces)\n",
    "fair_coin.show()"
   ]
  },
  {
   "cell_type": "code",
   "execution_count": 2,
   "id": "e7ce255c",
   "metadata": {},
   "outputs": [
    {
     "data": {
      "text/html": [
       "<div>\n",
       "<style scoped>\n",
       "    .dataframe tbody tr th:only-of-type {\n",
       "        vertical-align: middle;\n",
       "    }\n",
       "\n",
       "    .dataframe tbody tr th {\n",
       "        vertical-align: top;\n",
       "    }\n",
       "\n",
       "    .dataframe thead th {\n",
       "        text-align: right;\n",
       "    }\n",
       "</style>\n",
       "<table border=\"1\" class=\"dataframe\">\n",
       "  <thead>\n",
       "    <tr style=\"text-align: right;\">\n",
       "      <th></th>\n",
       "      <th>face</th>\n",
       "      <th>weight</th>\n",
       "    </tr>\n",
       "  </thead>\n",
       "  <tbody>\n",
       "    <tr>\n",
       "      <th>0</th>\n",
       "      <td>H</td>\n",
       "      <td>5.0</td>\n",
       "    </tr>\n",
       "    <tr>\n",
       "      <th>1</th>\n",
       "      <td>T</td>\n",
       "      <td>1.0</td>\n",
       "    </tr>\n",
       "  </tbody>\n",
       "</table>\n",
       "</div>"
      ],
      "text/plain": [
       "  face  weight\n",
       "0    H     5.0\n",
       "1    T     1.0"
      ]
     },
     "execution_count": 2,
     "metadata": {},
     "output_type": "execute_result"
    }
   ],
   "source": [
    "array_of_faces = np.array(['H', 'T'], dtype = str)\n",
    "unfair_coin = Die(array_of_faces)\n",
    "unfair_coin.change_weight('H', 5)\n",
    "unfair_coin.show()"
   ]
  },
  {
   "cell_type": "markdown",
   "id": "6f3ca018",
   "metadata": {},
   "source": [
    "2. Play a game of 1,000 flips of three fair coins."
   ]
  },
  {
   "cell_type": "code",
   "execution_count": 3,
   "id": "9d7fafe1",
   "metadata": {},
   "outputs": [
    {
     "data": {
      "text/html": [
       "<div>\n",
       "<style scoped>\n",
       "    .dataframe tbody tr th:only-of-type {\n",
       "        vertical-align: middle;\n",
       "    }\n",
       "\n",
       "    .dataframe tbody tr th {\n",
       "        vertical-align: top;\n",
       "    }\n",
       "\n",
       "    .dataframe thead th {\n",
       "        text-align: right;\n",
       "    }\n",
       "</style>\n",
       "<table border=\"1\" class=\"dataframe\">\n",
       "  <thead>\n",
       "    <tr style=\"text-align: right;\">\n",
       "      <th></th>\n",
       "      <th>0</th>\n",
       "      <th>1</th>\n",
       "      <th>2</th>\n",
       "    </tr>\n",
       "    <tr>\n",
       "      <th>roll_index</th>\n",
       "      <th></th>\n",
       "      <th></th>\n",
       "      <th></th>\n",
       "    </tr>\n",
       "  </thead>\n",
       "  <tbody>\n",
       "    <tr>\n",
       "      <th>0</th>\n",
       "      <td>H</td>\n",
       "      <td>H</td>\n",
       "      <td>H</td>\n",
       "    </tr>\n",
       "    <tr>\n",
       "      <th>1</th>\n",
       "      <td>T</td>\n",
       "      <td>T</td>\n",
       "      <td>T</td>\n",
       "    </tr>\n",
       "    <tr>\n",
       "      <th>2</th>\n",
       "      <td>H</td>\n",
       "      <td>H</td>\n",
       "      <td>T</td>\n",
       "    </tr>\n",
       "    <tr>\n",
       "      <th>3</th>\n",
       "      <td>T</td>\n",
       "      <td>T</td>\n",
       "      <td>T</td>\n",
       "    </tr>\n",
       "    <tr>\n",
       "      <th>4</th>\n",
       "      <td>H</td>\n",
       "      <td>T</td>\n",
       "      <td>H</td>\n",
       "    </tr>\n",
       "    <tr>\n",
       "      <th>...</th>\n",
       "      <td>...</td>\n",
       "      <td>...</td>\n",
       "      <td>...</td>\n",
       "    </tr>\n",
       "    <tr>\n",
       "      <th>995</th>\n",
       "      <td>T</td>\n",
       "      <td>T</td>\n",
       "      <td>H</td>\n",
       "    </tr>\n",
       "    <tr>\n",
       "      <th>996</th>\n",
       "      <td>T</td>\n",
       "      <td>H</td>\n",
       "      <td>H</td>\n",
       "    </tr>\n",
       "    <tr>\n",
       "      <th>997</th>\n",
       "      <td>H</td>\n",
       "      <td>H</td>\n",
       "      <td>T</td>\n",
       "    </tr>\n",
       "    <tr>\n",
       "      <th>998</th>\n",
       "      <td>T</td>\n",
       "      <td>T</td>\n",
       "      <td>T</td>\n",
       "    </tr>\n",
       "    <tr>\n",
       "      <th>999</th>\n",
       "      <td>T</td>\n",
       "      <td>T</td>\n",
       "      <td>H</td>\n",
       "    </tr>\n",
       "  </tbody>\n",
       "</table>\n",
       "<p>1000 rows × 3 columns</p>\n",
       "</div>"
      ],
      "text/plain": [
       "            0  1  2\n",
       "roll_index         \n",
       "0           H  H  H\n",
       "1           T  T  T\n",
       "2           H  H  T\n",
       "3           T  T  T\n",
       "4           H  T  H\n",
       "...        .. .. ..\n",
       "995         T  T  H\n",
       "996         T  H  H\n",
       "997         H  H  T\n",
       "998         T  T  T\n",
       "999         T  T  H\n",
       "\n",
       "[1000 rows x 3 columns]"
      ]
     },
     "execution_count": 3,
     "metadata": {},
     "output_type": "execute_result"
    }
   ],
   "source": [
    "from montecarlosimulator import Game\n",
    "list_of_fair_coins = []\n",
    "array_of_faces = np.array(['H', 'T'], dtype = str)\n",
    "for i in range(0, 3):\n",
    "    fair_coin = Die(array_of_faces)\n",
    "    list_of_fair_coins.append(fair_coin)\n",
    "game_with_three_fair_coins = Game(list_of_fair_coins)\n",
    "game_with_three_fair_coins.play(1000)\n",
    "game_with_three_fair_coins.show('wide')"
   ]
  },
  {
   "cell_type": "markdown",
   "id": "c32367fb",
   "metadata": {},
   "source": [
    "3. Play a game 1,000 flips with two unfair coins and one fair coin."
   ]
  },
  {
   "cell_type": "code",
   "execution_count": 4,
   "id": "2da9289c",
   "metadata": {},
   "outputs": [
    {
     "data": {
      "text/html": [
       "<div>\n",
       "<style scoped>\n",
       "    .dataframe tbody tr th:only-of-type {\n",
       "        vertical-align: middle;\n",
       "    }\n",
       "\n",
       "    .dataframe tbody tr th {\n",
       "        vertical-align: top;\n",
       "    }\n",
       "\n",
       "    .dataframe thead th {\n",
       "        text-align: right;\n",
       "    }\n",
       "</style>\n",
       "<table border=\"1\" class=\"dataframe\">\n",
       "  <thead>\n",
       "    <tr style=\"text-align: right;\">\n",
       "      <th></th>\n",
       "      <th>0</th>\n",
       "      <th>1</th>\n",
       "      <th>2</th>\n",
       "    </tr>\n",
       "    <tr>\n",
       "      <th>roll_index</th>\n",
       "      <th></th>\n",
       "      <th></th>\n",
       "      <th></th>\n",
       "    </tr>\n",
       "  </thead>\n",
       "  <tbody>\n",
       "    <tr>\n",
       "      <th>0</th>\n",
       "      <td>H</td>\n",
       "      <td>H</td>\n",
       "      <td>T</td>\n",
       "    </tr>\n",
       "    <tr>\n",
       "      <th>1</th>\n",
       "      <td>H</td>\n",
       "      <td>H</td>\n",
       "      <td>T</td>\n",
       "    </tr>\n",
       "    <tr>\n",
       "      <th>2</th>\n",
       "      <td>T</td>\n",
       "      <td>T</td>\n",
       "      <td>H</td>\n",
       "    </tr>\n",
       "    <tr>\n",
       "      <th>3</th>\n",
       "      <td>H</td>\n",
       "      <td>H</td>\n",
       "      <td>H</td>\n",
       "    </tr>\n",
       "    <tr>\n",
       "      <th>4</th>\n",
       "      <td>T</td>\n",
       "      <td>H</td>\n",
       "      <td>H</td>\n",
       "    </tr>\n",
       "    <tr>\n",
       "      <th>...</th>\n",
       "      <td>...</td>\n",
       "      <td>...</td>\n",
       "      <td>...</td>\n",
       "    </tr>\n",
       "    <tr>\n",
       "      <th>995</th>\n",
       "      <td>H</td>\n",
       "      <td>H</td>\n",
       "      <td>H</td>\n",
       "    </tr>\n",
       "    <tr>\n",
       "      <th>996</th>\n",
       "      <td>H</td>\n",
       "      <td>H</td>\n",
       "      <td>H</td>\n",
       "    </tr>\n",
       "    <tr>\n",
       "      <th>997</th>\n",
       "      <td>T</td>\n",
       "      <td>H</td>\n",
       "      <td>H</td>\n",
       "    </tr>\n",
       "    <tr>\n",
       "      <th>998</th>\n",
       "      <td>H</td>\n",
       "      <td>H</td>\n",
       "      <td>T</td>\n",
       "    </tr>\n",
       "    <tr>\n",
       "      <th>999</th>\n",
       "      <td>H</td>\n",
       "      <td>H</td>\n",
       "      <td>H</td>\n",
       "    </tr>\n",
       "  </tbody>\n",
       "</table>\n",
       "<p>1000 rows × 3 columns</p>\n",
       "</div>"
      ],
      "text/plain": [
       "            0  1  2\n",
       "roll_index         \n",
       "0           H  H  T\n",
       "1           H  H  T\n",
       "2           T  T  H\n",
       "3           H  H  H\n",
       "4           T  H  H\n",
       "...        .. .. ..\n",
       "995         H  H  H\n",
       "996         H  H  H\n",
       "997         T  H  H\n",
       "998         H  H  T\n",
       "999         H  H  H\n",
       "\n",
       "[1000 rows x 3 columns]"
      ]
     },
     "execution_count": 4,
     "metadata": {},
     "output_type": "execute_result"
    }
   ],
   "source": [
    "array_of_faces = np.array(['H', 'T'], dtype = str)\n",
    "unfair_coin_1 = Die(array_of_faces)\n",
    "unfair_coin_1.change_weight('H', 5)\n",
    "unfair_coin_2 = Die(array_of_faces)\n",
    "unfair_coin_2.change_weight('H', 5)\n",
    "fair_coin = Die(array_of_faces)\n",
    "list_of_unfair_and_fair_coins = [unfair_coin_1, unfair_coin_2, fair_coin]\n",
    "game_with_two_unfair_coins_and_one_fair_coin = Game(list_of_unfair_and_fair_coins)\n",
    "game_with_two_unfair_coins_and_one_fair_coin.play(1000)\n",
    "game_with_two_unfair_coins_and_one_fair_coin.show('wide')"
   ]
  },
  {
   "cell_type": "markdown",
   "id": "f1bb8421",
   "metadata": {},
   "source": [
    "4.  For each game, use an `Analyzer` object to determine the relative frequency of jackpots. A jackpot is a roll with all heads or all tails. Relative frequency is the ratio of the number of jackpots to the number of rolls.\n",
    "\n",
    "    The probability for one flip of one fair coin of flipping one head\n",
    "    $$p = \\frac{number \\ of \\ favorable \\ outcomes}{number \\ of \\ outcomes} = \\frac{n_{H}}{n_{H, T}} = \\frac{1}{2} = 0.5$$\n",
    "    The binomial probability for one flip of $n$ fair coins of flipping $r$ heads\n",
    "    $$B(n, r, p) = p^3 = C(n, r) \\ p^r \\ (q = 1 - p)^{n - r}$$\n",
    "    The binomial probability for one flip of $3$ fair coins of flipping $3$ heads\n",
    "    $$B(3, 3, 0.5) = 0.5^3 = C(3, 3) \\ 0.5^3 \\ (1 - 0.5)^{3 - 3} = 0.125$$\n",
    "    The binomial probability for one flip of $3$ fair coins of flipping $3$ tails\n",
    "    $$B(3, 3, 0.5) = 0.125$$\n",
    "    For events $A$ and $B$, the probability of $A$ or $B$ occurring\n",
    "    $$P(A \\ or \\ B) = P(A) + P(B) - P(A \\ and \\ B)$$\n",
    "    For mutually exclusive events $A$ and $B$, the probability of $A$ and $B$ occurring\n",
    "    $$P(A \\ and \\ B) = 0$$\n",
    "    Let event $3H$ be flipping $3$ heads for one flip of $3$ fair coins.\n",
    "    Let event $3T$ be flipping $3$ tails for one flip of $3$ fair coins.\n",
    "    Events $3H$ and $3T$ are mutually exclusive.\n",
    "    $$P(3H \\ or \\ 3T) = P(3H) + P(3T) - P(3H \\ and \\ 3T) = 0.125 + 0.125 - 0 = 0.25$$\n",
    "    The Poisson binomial probability, for one flip of one fair coin and two unfair coins with probability-of-heads $\\frac{5}{6}$, of flipping one head and two heads\n",
    "    $$P(1H \\ and \\ 2H) = P(1H) P(2H) = (0.5)(0.833)^2 = 0.347$$\n",
    "    The Poisson binomial probability, for one flip of one fair coin and two unfair coins with probability-of-heads $\\frac{5}{6}$, of flipping one tail and two tails\n",
    "    $$P(1T \\ and \\ 2T) = P(1T) P(2T) = (0.5)(0.167)^2 = 0.0139$$\n",
    "    The probability, for one flip of one fair coin and two unfair coins with probability-of-heads $\\frac{5}{6}$, of flipping one head and two heads or one tail and two tails\n",
    "    $$P[(1H \\ and \\ 2H) or (1T \\ and \\ 2T)] = P(1H \\ and \\ 2H) + P(1T \\ and \\ 2T) = 0.347 + 0.0139 = 0.361$$"
   ]
  },
  {
   "cell_type": "code",
   "execution_count": 5,
   "id": "c1fb7f42",
   "metadata": {},
   "outputs": [
    {
     "data": {
      "text/plain": [
       "0.24"
      ]
     },
     "execution_count": 5,
     "metadata": {},
     "output_type": "execute_result"
    }
   ],
   "source": [
    "from montecarlosimulator import Analyzer\n",
    "def calculate_relative_frequency(analyzer, number_of_flips):\n",
    "    analyzer.play(number_of_flips)\n",
    "    number_of_jackpots = analyzer.get_number_of_rolls_where_all_dice_have_the_same_face(\n",
    "        data_frame_of_face_combinations_and_counts_where_combinations_have_all_faces_the_same_should_be_created = False\n",
    "    )\n",
    "    relative_frequency = number_of_jackpots / number_of_flips\n",
    "    return relative_frequency\n",
    "analyzer = Analyzer(game_with_three_fair_coins)\n",
    "relative_frequency_for_three_fair_coins = calculate_relative_frequency(analyzer, 1000)\n",
    "relative_frequency_for_three_fair_coins"
   ]
  },
  {
   "cell_type": "code",
   "execution_count": 6,
   "id": "91d01886",
   "metadata": {
    "scrolled": true
   },
   "outputs": [
    {
     "name": "stderr",
     "output_type": "stream",
     "text": [
      "C:\\Users\\Tom\\Documents\\montecarlosimulator\\montecarlosimulator\\Analyzer.py:138: PerformanceWarning: indexing past lexsort depth may impact performance.\n",
      "  self.data_frame_of_face_combinations_and_counts.at[face_combination, 'count'] = 1\n",
      "C:\\Users\\Tom\\Documents\\montecarlosimulator\\montecarlosimulator\\Analyzer.py:138: PerformanceWarning: indexing past lexsort depth may impact performance.\n",
      "  self.data_frame_of_face_combinations_and_counts.at[face_combination, 'count'] = 1\n",
      "C:\\Users\\Tom\\Documents\\montecarlosimulator\\montecarlosimulator\\Analyzer.py:138: PerformanceWarning: indexing past lexsort depth may impact performance.\n",
      "  self.data_frame_of_face_combinations_and_counts.at[face_combination, 'count'] = 1\n",
      "C:\\Users\\Tom\\Documents\\montecarlosimulator\\montecarlosimulator\\Analyzer.py:138: PerformanceWarning: indexing past lexsort depth may impact performance.\n",
      "  self.data_frame_of_face_combinations_and_counts.at[face_combination, 'count'] = 1\n",
      "C:\\Users\\Tom\\Documents\\montecarlosimulator\\montecarlosimulator\\Analyzer.py:138: PerformanceWarning: indexing past lexsort depth may impact performance.\n",
      "  self.data_frame_of_face_combinations_and_counts.at[face_combination, 'count'] = 1\n",
      "C:\\Users\\Tom\\Documents\\montecarlosimulator\\montecarlosimulator\\Analyzer.py:138: PerformanceWarning: indexing past lexsort depth may impact performance.\n",
      "  self.data_frame_of_face_combinations_and_counts.at[face_combination, 'count'] = 1\n",
      "C:\\Users\\Tom\\Documents\\montecarlosimulator\\montecarlosimulator\\Analyzer.py:138: PerformanceWarning: indexing past lexsort depth may impact performance.\n",
      "  self.data_frame_of_face_combinations_and_counts.at[face_combination, 'count'] = 1\n",
      "C:\\Users\\Tom\\Documents\\montecarlosimulator\\montecarlosimulator\\Analyzer.py:138: PerformanceWarning: indexing past lexsort depth may impact performance.\n",
      "  self.data_frame_of_face_combinations_and_counts.at[face_combination, 'count'] = 1\n",
      "C:\\Users\\Tom\\Documents\\montecarlosimulator\\montecarlosimulator\\Analyzer.py:138: PerformanceWarning: indexing past lexsort depth may impact performance.\n",
      "  self.data_frame_of_face_combinations_and_counts.at[face_combination, 'count'] = 1\n",
      "C:\\Users\\Tom\\Documents\\montecarlosimulator\\montecarlosimulator\\Analyzer.py:138: PerformanceWarning: indexing past lexsort depth may impact performance.\n",
      "  self.data_frame_of_face_combinations_and_counts.at[face_combination, 'count'] = 1\n",
      "C:\\Users\\Tom\\Documents\\montecarlosimulator\\montecarlosimulator\\Analyzer.py:138: PerformanceWarning: indexing past lexsort depth may impact performance.\n",
      "  self.data_frame_of_face_combinations_and_counts.at[face_combination, 'count'] = 1\n",
      "C:\\Users\\Tom\\Documents\\montecarlosimulator\\montecarlosimulator\\Analyzer.py:138: PerformanceWarning: indexing past lexsort depth may impact performance.\n",
      "  self.data_frame_of_face_combinations_and_counts.at[face_combination, 'count'] = 1\n",
      "C:\\Users\\Tom\\Documents\\montecarlosimulator\\montecarlosimulator\\Analyzer.py:138: PerformanceWarning: indexing past lexsort depth may impact performance.\n",
      "  self.data_frame_of_face_combinations_and_counts.at[face_combination, 'count'] = 1\n",
      "C:\\Users\\Tom\\Documents\\montecarlosimulator\\montecarlosimulator\\Analyzer.py:138: PerformanceWarning: indexing past lexsort depth may impact performance.\n",
      "  self.data_frame_of_face_combinations_and_counts.at[face_combination, 'count'] = 1\n",
      "C:\\Users\\Tom\\Documents\\montecarlosimulator\\montecarlosimulator\\Analyzer.py:138: PerformanceWarning: indexing past lexsort depth may impact performance.\n",
      "  self.data_frame_of_face_combinations_and_counts.at[face_combination, 'count'] = 1\n",
      "C:\\Users\\Tom\\Documents\\montecarlosimulator\\montecarlosimulator\\Analyzer.py:138: PerformanceWarning: indexing past lexsort depth may impact performance.\n",
      "  self.data_frame_of_face_combinations_and_counts.at[face_combination, 'count'] = 1\n",
      "C:\\Users\\Tom\\Documents\\montecarlosimulator\\montecarlosimulator\\Analyzer.py:138: PerformanceWarning: indexing past lexsort depth may impact performance.\n",
      "  self.data_frame_of_face_combinations_and_counts.at[face_combination, 'count'] = 1\n",
      "C:\\Users\\Tom\\Documents\\montecarlosimulator\\montecarlosimulator\\Analyzer.py:138: PerformanceWarning: indexing past lexsort depth may impact performance.\n",
      "  self.data_frame_of_face_combinations_and_counts.at[face_combination, 'count'] = 1\n",
      "C:\\Users\\Tom\\Documents\\montecarlosimulator\\montecarlosimulator\\Analyzer.py:138: PerformanceWarning: indexing past lexsort depth may impact performance.\n",
      "  self.data_frame_of_face_combinations_and_counts.at[face_combination, 'count'] = 1\n",
      "C:\\Users\\Tom\\Documents\\montecarlosimulator\\montecarlosimulator\\Analyzer.py:138: PerformanceWarning: indexing past lexsort depth may impact performance.\n",
      "  self.data_frame_of_face_combinations_and_counts.at[face_combination, 'count'] = 1\n",
      "C:\\Users\\Tom\\Documents\\montecarlosimulator\\montecarlosimulator\\Analyzer.py:138: PerformanceWarning: indexing past lexsort depth may impact performance.\n",
      "  self.data_frame_of_face_combinations_and_counts.at[face_combination, 'count'] = 1\n",
      "C:\\Users\\Tom\\Documents\\montecarlosimulator\\montecarlosimulator\\Analyzer.py:138: PerformanceWarning: indexing past lexsort depth may impact performance.\n",
      "  self.data_frame_of_face_combinations_and_counts.at[face_combination, 'count'] = 1\n"
     ]
    },
    {
     "data": {
      "image/png": "[encoded data removed]",
      "text/plain": [
       "<Figure size 432x288 with 1 Axes>"
      ]
     },
     "metadata": {
      "needs_background": "light"
     },
     "output_type": "display_data"
    }
   ],
   "source": [
    "import matplotlib.pyplot as plt\n",
    "relative_frequencies = []\n",
    "for i in range(0, 100):\n",
    "    relative_frequency = calculate_relative_frequency(analyzer, 1000)\n",
    "    relative_frequencies.append(relative_frequency)\n",
    "plt.hist(relative_frequencies)\n",
    "plt.title('Frequency vs. Relative Frequency of Jackpots')\n",
    "plt.xlabel('relative frequency')\n",
    "plt.ylabel('frequency')\n",
    "plt.show()"
   ]
  },
  {
   "cell_type": "code",
   "execution_count": 7,
   "id": "6c3d17cf",
   "metadata": {},
   "outputs": [
    {
     "data": {
      "text/plain": [
       "0.367"
      ]
     },
     "execution_count": 7,
     "metadata": {},
     "output_type": "execute_result"
    }
   ],
   "source": [
    "analyzer = Analyzer(game_with_two_unfair_coins_and_one_fair_coin)\n",
    "relative_frequency_for_one_fair_coin_and_two_unfair_coins = calculate_relative_frequency(analyzer, 1000)\n",
    "relative_frequency_for_one_fair_coin_and_two_unfair_coins"
   ]
  },
  {
   "cell_type": "code",
   "execution_count": 8,
   "id": "9061373a",
   "metadata": {},
   "outputs": [
    {
     "name": "stderr",
     "output_type": "stream",
     "text": [
      "C:\\Users\\Tom\\Documents\\montecarlosimulator\\montecarlosimulator\\Analyzer.py:138: PerformanceWarning: indexing past lexsort depth may impact performance.\n",
      "  self.data_frame_of_face_combinations_and_counts.at[face_combination, 'count'] = 1\n",
      "C:\\Users\\Tom\\Documents\\montecarlosimulator\\montecarlosimulator\\Analyzer.py:138: PerformanceWarning: indexing past lexsort depth may impact performance.\n",
      "  self.data_frame_of_face_combinations_and_counts.at[face_combination, 'count'] = 1\n"
     ]
    },
    {
     "data": {
      "image/png": "[encoded data removed]",
      "text/plain": [
       "<Figure size 432x288 with 1 Axes>"
      ]
     },
     "metadata": {
      "needs_background": "light"
     },
     "output_type": "display_data"
    }
   ],
   "source": [
    "relative_frequencies = []\n",
    "for i in range(0, 100):\n",
    "    relative_frequency = calculate_relative_frequency(analyzer, 1000)\n",
    "    relative_frequencies.append(relative_frequency)\n",
    "plt.hist(relative_frequencies)\n",
    "plt.title('Frequency vs. Relative Frequency of Jackpots')\n",
    "plt.xlabel('relative frequency')\n",
    "plt.ylabel('frequency')\n",
    "plt.show()"
   ]
  },
  {
   "cell_type": "markdown",
   "id": "723e2143",
   "metadata": {},
   "source": [
    "6.  Compare relative frequency of jackpots for a set of 3 fair coins and a set of 1 fair coin and 2 unfair coins."
   ]
  },
  {
   "cell_type": "code",
   "execution_count": 9,
   "id": "a93e523d",
   "metadata": {},
   "outputs": [
    {
     "data": {
      "image/png": "[encoded data removed]",
      "text/plain": [
       "<Figure size 432x288 with 1 Axes>"
      ]
     },
     "metadata": {
      "needs_background": "light"
     },
     "output_type": "display_data"
    }
   ],
   "source": [
    "import matplotlib.pyplot as plt\n",
    "plt.bar(x = ['3 fair coins', '1 fair and 2 unfair coins'], height = [relative_frequency_for_three_fair_coins, relative_frequency_for_one_fair_coin_and_two_unfair_coins], label = 'relative frequency')\n",
    "plt.title('Relative Frequency of Jackpots vs. Set of Coins')\n",
    "plt.xlabel('set of coins')\n",
    "plt.ylabel('relative frequency')\n",
    "plt.legend()\n",
    "plt.show()"
   ]
  },
  {
   "cell_type": "code",
   "execution_count": null,
   "id": "d62c4018",
   "metadata": {},
   "outputs": [],
   "source": []
  }
 ],
 "metadata": {
  "kernelspec": {
   "display_name": "Python 3 (ipykernel)",
   "language": "python",
   "name": "python3"
  },
  "language_info": {
   "codemirror_mode": {
    "name": "ipython",
    "version": 3
   },
   "file_extension": ".py",
   "mimetype": "text/x-python",
   "name": "python",
   "nbconvert_exporter": "python",
   "pygments_lexer": "ipython3",
   "version": "3.9.12"
  }
 },
 "nbformat": 4,
 "nbformat_minor": 5
}
